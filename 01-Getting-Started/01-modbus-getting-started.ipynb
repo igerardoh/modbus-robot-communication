{
 "cells": [
  {
   "cell_type": "markdown",
   "id": "d41cad65",
   "metadata": {},
   "source": [
    "# MODBUS GETTING STARTED"
   ]
  },
  {
   "cell_type": "markdown",
   "id": "63eef2c3",
   "metadata": {},
   "source": [
    "# 0. Configure PC and Robot"
   ]
  },
  {
   "cell_type": "markdown",
   "id": "0056980e",
   "metadata": {},
   "source": [
    "Before starting make sure that:\n",
    "- Your PC and robot are both in the same network domain\n",
    "- Your PC has the library pymodbus already installed: `pip install pymodbus`\n",
    "- Make sure Remote control and modbus, both are enabled in your robot\n",
    "- Some modbus commands will require to have your robot in AutoMode, so may may need to change robot from Manual to Auto mode\n",
    "\n",
    "Using: \n",
    "- python 3.10\n",
    "- pymodbus 2.5\n",
    "\n",
    "Reference:\n",
    "- https://pymodbus.readthedocs.io/en/latest/source/library/pymodbus.client.html?highlight=ModbusTcpClient#pymodbus.client.sync.ModbusTcpClient"
   ]
  },
  {
   "cell_type": "markdown",
   "id": "ee7b148a",
   "metadata": {},
   "source": [
    "# 1. Connect Robot"
   ]
  },
  {
   "cell_type": "markdown",
   "id": "2f3bcbe9",
   "metadata": {},
   "source": [
    "### 1.1 Define parameters and establish connection "
   ]
  },
  {
   "cell_type": "code",
   "execution_count": 1,
   "id": "f08313c3",
   "metadata": {},
   "outputs": [
    {
     "name": "stdout",
     "output_type": "stream",
     "text": [
      "Trying to establish connection.....\n",
      "Connection to Robot 192.168.132.173:502 established succesfully\n"
     ]
    }
   ],
   "source": [
    "from pymodbus.client.sync import ModbusTcpClient\n",
    "\n",
    "# Define device/robot parameters\n",
    "SERVER_IP = '192.168.132.173' # TMrobot\n",
    "SERVER_PORT = 502\n",
    "DEVICE_ID = 1\n",
    "\n",
    "# Establish TCP connection\n",
    "print('Trying to establish connection.....')\n",
    "client = ModbusTcpClient(host=SERVER_IP, port=SERVER_PORT)\n",
    "\n",
    "if client.connect():\n",
    "    print(\"Connection to Robot %s:%d established succesfully\" % (SERVER_IP, SERVER_PORT))\n",
    "else:\n",
    "    print(\"[Error] Fail to connect to modbus slave %s:%d.\" % (SERVER_IP, SERVER_PORT))\n",
    "    exit()"
   ]
  },
  {
   "cell_type": "markdown",
   "id": "0ac55461",
   "metadata": {},
   "source": [
    "# 2. Trigger Events (Write Data)"
   ]
  },
  {
   "cell_type": "markdown",
   "id": "68503a85",
   "metadata": {},
   "source": [
    "### 2.1 Change Current Project"
   ]
  },
  {
   "cell_type": "code",
   "execution_count": 2,
   "id": "722cee1d",
   "metadata": {
    "scrolled": true
   },
   "outputs": [
    {
     "name": "stdout",
     "output_type": "stream",
     "text": [
      "Project Change command has been sent\n"
     ]
    }
   ],
   "source": [
    "def str2hex(string):\n",
    "    if len(string)%2 != 0:\n",
    "        string += \" \"\n",
    "    _hex = list(int(string[i:2+i].encode(\"utf-8\").hex(),16) for i in range(0, len(string), 2))\n",
    "    _hex = _hex + [0, 23600] # append suffix '/0'\n",
    "    return _hex\n",
    "\n",
    "# Define Parameters\n",
    "ADDRESS_START  = 7701 \n",
    "MESSAGE = 'motion_test' # HEX=[0x6D6F, 0x7469, 0x6F6E, 0x5F74, 0x6573, 0x7400]\n",
    "\n",
    "modbus_change_project = client.write_registers(address=ADDRESS_START, values=str2hex(MESSAGE)) \n",
    "\n",
    "print(\"Project Change command has been sent\")"
   ]
  },
  {
   "cell_type": "markdown",
   "id": "52fa72a1",
   "metadata": {},
   "source": [
    "### 2.2 Play/Pause Current Project\n",
    "If the project is stopped or paused at the moment you run these lines of codes, then the project will be played. If the project is already being played, then these lines of codes will pause it."
   ]
  },
  {
   "cell_type": "code",
   "execution_count": 3,
   "id": "6d3cf29a",
   "metadata": {},
   "outputs": [
    {
     "name": "stdout",
     "output_type": "stream",
     "text": [
      "Play/Pause command sent successfully\n"
     ]
    }
   ],
   "source": [
    "# Define Parameters\n",
    "ADDRESS_START  = 7104\n",
    "\n",
    "modbus_play = client.write_coil(address=ADDRESS_START, value=1)\n",
    "\n",
    "print(\"Play/Pause command sent successfully\")"
   ]
  },
  {
   "cell_type": "markdown",
   "id": "479cd8ab",
   "metadata": {},
   "source": [
    "### 2.3 Change Project Speed"
   ]
  },
  {
   "cell_type": "code",
   "execution_count": 4,
   "id": "23b4b469",
   "metadata": {},
   "outputs": [
    {
     "name": "stdout",
     "output_type": "stream",
     "text": [
      "Robot speed succesfully changed\n"
     ]
    }
   ],
   "source": [
    "# Define Parameters\n",
    "ADDRESS_START  = 7101\n",
    "ROBOT_SPEED = 25\n",
    "\n",
    "modbus_change_speed = client.write_register(address=ADDRESS_START, value=ROBOT_SPEED)\n",
    "\n",
    "print(\"Robot speed succesfully changed\")"
   ]
  },
  {
   "cell_type": "markdown",
   "id": "59abf4c9",
   "metadata": {},
   "source": [
    "# 3. GET INFO (Read Data)"
   ]
  },
  {
   "cell_type": "markdown",
   "id": "8285a8d1",
   "metadata": {},
   "source": [
    "## 3.1 Robot Status"
   ]
  },
  {
   "cell_type": "markdown",
   "id": "7a93e0d1",
   "metadata": {},
   "source": [
    "### 3.1.1 Is there an Error?"
   ]
  },
  {
   "cell_type": "code",
   "execution_count": 5,
   "id": "7aad7fe6",
   "metadata": {},
   "outputs": [
    {
     "name": "stdout",
     "output_type": "stream",
     "text": [
      "False\n"
     ]
    }
   ],
   "source": [
    "ADDRESS_START = 7201\n",
    "\n",
    "modbus_isError = client.read_discrete_inputs(address=ADDRESS_START, count=1)\n",
    "print(modbus_isError.bits[0])"
   ]
  },
  {
   "cell_type": "markdown",
   "id": "f284d48c",
   "metadata": {},
   "source": [
    "### 3.1.2 Is Project Running?"
   ]
  },
  {
   "cell_type": "code",
   "execution_count": 6,
   "id": "57cc1e7c",
   "metadata": {},
   "outputs": [
    {
     "name": "stdout",
     "output_type": "stream",
     "text": [
      "True\n"
     ]
    }
   ],
   "source": [
    "ADDRESS_START = 7202\n",
    "\n",
    "modbus_isPlay = client.read_discrete_inputs(address=ADDRESS_START, count=1)\n",
    "print(modbus_isPlay.bits[0])"
   ]
  },
  {
   "cell_type": "code",
   "execution_count": null,
   "id": "0cb31834",
   "metadata": {},
   "outputs": [],
   "source": []
  }
 ],
 "metadata": {
  "kernelspec": {
   "display_name": "Python 3 (ipykernel)",
   "language": "python",
   "name": "python3"
  },
  "language_info": {
   "codemirror_mode": {
    "name": "ipython",
    "version": 3
   },
   "file_extension": ".py",
   "mimetype": "text/x-python",
   "name": "python",
   "nbconvert_exporter": "python",
   "pygments_lexer": "ipython3",
   "version": "3.10.4"
  }
 },
 "nbformat": 4,
 "nbformat_minor": 5
}
