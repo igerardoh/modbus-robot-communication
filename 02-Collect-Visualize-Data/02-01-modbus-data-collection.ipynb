{
 "cells": [
  {
   "cell_type": "markdown",
   "id": "d41cad65",
   "metadata": {},
   "source": [
    "# MODBUS - HOW TO COLLECT AND STORE DATA"
   ]
  },
  {
   "cell_type": "markdown",
   "id": "ee7b148a",
   "metadata": {},
   "source": [
    "# 1. Connect Robot"
   ]
  },
  {
   "cell_type": "markdown",
   "id": "2f3bcbe9",
   "metadata": {},
   "source": [
    "### 1.1 Define parameters and establish connection\n",
    "Before establish the connection, please make sure your robot has remote and modbus enabled. Also make sure your robot is running in Auto Mode. \n",
    "https://pymodbus.readthedocs.io/en/latest/source/library/pymodbus.client.html?highlight=ModbusTcpClient#pymodbus.client.sync.ModbusTcpClient"
   ]
  },
  {
   "cell_type": "code",
   "execution_count": 1,
   "id": "f08313c3",
   "metadata": {},
   "outputs": [
    {
     "name": "stdout",
     "output_type": "stream",
     "text": [
      "Trying to establish connection.....\n",
      "Connection to Robot 192.168.132.173:502 established succesfully\n"
     ]
    }
   ],
   "source": [
    "from pymodbus.client.sync import ModbusTcpClient\n",
    "\n",
    "# Define device/robot parameters\n",
    "SERVER_IP = '192.168.132.173' # TMrobot\n",
    "SERVER_PORT = 502\n",
    "DEVICE_ID = 1\n",
    "\n",
    "# Establish TCP connection\n",
    "print('Trying to establish connection.....')\n",
    "client = ModbusTcpClient(host=SERVER_IP, port=SERVER_PORT)\n",
    "\n",
    "if client.connect():\n",
    "    print(\"Connection to Robot %s:%d established succesfully\" % (SERVER_IP, SERVER_PORT))\n",
    "else:\n",
    "    print(\"[Error] Fail to connect to modbus slave %s:%d.\" % (SERVER_IP, SERVER_PORT))\n",
    "    exit()"
   ]
  },
  {
   "cell_type": "markdown",
   "id": "59abf4c9",
   "metadata": {},
   "source": [
    "# 2. GET INFO (Read Data)"
   ]
  },
  {
   "cell_type": "markdown",
   "id": "8285a8d1",
   "metadata": {},
   "source": [
    "## 2.1 Collect and Store Robot Joint Speed Data"
   ]
  },
  {
   "cell_type": "code",
   "execution_count": 2,
   "id": "1a59a225",
   "metadata": {},
   "outputs": [
    {
     "name": "stdout",
     "output_type": "stream",
     "text": [
      "Reading and storing data, in progress...\n",
      "NOTE: You can press the stop button at any time to interrup the data collection process\n",
      "Data collection program stopped successfully!\n"
     ]
    }
   ],
   "source": [
    "import time\n",
    "from pymodbus.payload import BinaryPayloadDecoder\n",
    "from pymodbus.constants import Endian\n",
    "\n",
    "# define file name based on start time\n",
    "file_name = time.ctime().replace(':','') + '.csv'\n",
    "\n",
    "print('Reading and storing data, in progress...')\n",
    "print('NOTE: You can press the stop button at any time to interrup the data collection process')\n",
    "\n",
    "while True:\n",
    "    try:\n",
    "        # Update collected time and counter\n",
    "        timestamp = time.time()\n",
    "\n",
    "        # Read speed values\n",
    "        modbus_spdJ1 = client.read_input_registers(address=7913, count=2)\n",
    "        modbus_spdJ1 = BinaryPayloadDecoder.fromRegisters(modbus_spdJ1.registers, \n",
    "                                                          Endian.Big, wordorder=Endian.Big).decode_32bit_float()\n",
    "\n",
    "        modbus_spdJ2 = client.read_input_registers(address=7915, count=2)\n",
    "        modbus_spdJ2 = BinaryPayloadDecoder.fromRegisters(modbus_spdJ2.registers, \n",
    "                                                          Endian.Big, wordorder=Endian.Big).decode_32bit_float()\n",
    "\n",
    "        modbus_spdJ3 = client.read_input_registers(address=7917, count=2)\n",
    "        modbus_spdJ3 = BinaryPayloadDecoder.fromRegisters(modbus_spdJ3.registers, \n",
    "                                                          Endian.Big, wordorder=Endian.Big).decode_32bit_float()\n",
    "\n",
    "        modbus_spdJ4 = client.read_input_registers(address=7919, count=2)\n",
    "        modbus_spdJ4 = BinaryPayloadDecoder.fromRegisters(modbus_spdJ4.registers, \n",
    "                                                          Endian.Big, wordorder=Endian.Big).decode_32bit_float()\n",
    "\n",
    "        modbus_spdJ5 = client.read_input_registers(address=7921, count=2)\n",
    "        modbus_spdJ5 = BinaryPayloadDecoder.fromRegisters(modbus_spdJ5.registers, \n",
    "                                                          Endian.Big, wordorder=Endian.Big).decode_32bit_float()\n",
    "\n",
    "        modbus_spdJ6 = client.read_input_registers(address=7923, count=2)\n",
    "        modbus_spdJ6 = BinaryPayloadDecoder.fromRegisters(modbus_spdJ6.registers, \n",
    "                                                          Endian.Big, wordorder=Endian.Big).decode_32bit_float()\n",
    "\n",
    "        new_data = '{},{},{},{},{},{},{}\\n'.format(timestamp, modbus_spdJ1, modbus_spdJ2, modbus_spdJ3, \n",
    "                                       modbus_spdJ4, modbus_spdJ5, modbus_spdJ6)\n",
    "\n",
    "        writer = open(file_name, 'a')\n",
    "        writer.write(new_data)\n",
    "        \n",
    "    except(KeyboardInterrupt, SystemExit,IndexError,ValueError):\n",
    "        print('Data collection program stopped successfully!')\n",
    "        writer.close()\n",
    "        break\n",
    "    "
   ]
  },
  {
   "cell_type": "code",
   "execution_count": null,
   "id": "92d38852",
   "metadata": {},
   "outputs": [],
   "source": []
  }
 ],
 "metadata": {
  "kernelspec": {
   "display_name": "Python 3 (ipykernel)",
   "language": "python",
   "name": "python3"
  },
  "language_info": {
   "codemirror_mode": {
    "name": "ipython",
    "version": 3
   },
   "file_extension": ".py",
   "mimetype": "text/x-python",
   "name": "python",
   "nbconvert_exporter": "python",
   "pygments_lexer": "ipython3",
   "version": "3.9.12"
  },
  "widgets": {
   "application/vnd.jupyter.widget-state+json": {
    "state": {},
    "version_major": 2,
    "version_minor": 0
   }
  }
 },
 "nbformat": 4,
 "nbformat_minor": 5
}
